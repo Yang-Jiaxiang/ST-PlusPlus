{
 "cells": [
  {
   "cell_type": "code",
   "execution_count": 1,
   "id": "3a990c61",
   "metadata": {},
   "outputs": [],
   "source": [
    "import os\n",
    "import random\n",
    "import csv"
   ]
  },
  {
   "cell_type": "code",
   "execution_count": 2,
   "id": "330f8e65",
   "metadata": {},
   "outputs": [],
   "source": [
    "# Define the data directory paths\n",
    "data_dir = '0_data_dataset_voc_950/'\n",
    "IMG_folder_path = data_dir + 'JPEGImages/'\n",
    "msk_folder_path = data_dir + 'SegmentationClassPNG/'\n",
    "output_dir = 'dataset/splits/test/0114/'\n",
    "val_output_dir = 'dataset/splits/test/'"
   ]
  },
  {
   "cell_type": "code",
   "execution_count": 3,
   "id": "41481efb",
   "metadata": {},
   "outputs": [],
   "source": [
    "def remove_prefix(text, prefix):\n",
    "    if text.startswith(prefix):\n",
    "        return text[len(prefix):]\n",
    "    return text  # 如果沒有前綴就回傳原文"
   ]
  },
  {
   "cell_type": "code",
   "execution_count": 4,
   "id": "38e82495",
   "metadata": {},
   "outputs": [],
   "source": [
    "# Get a list of image file paths and shuffle them\n",
    "files = [os.path.join(IMG_folder_path, file) for file in os.listdir(IMG_folder_path)]\n",
    "random.shuffle(files)\n",
    "files = [remove_prefix(file_path, data_dir) for file_path in files]\n",
    "\n",
    "# Specify the validation and labeled data ratios\n",
    "val_ratio = 0.1\n",
    "labeled_ratio = 0.334\n",
    "\n",
    "# Calculate the number of samples for each set\n",
    "total_samples = len(files)\n",
    "val_samples = int(total_samples * val_ratio)\n",
    "train_samples = int((total_samples - val_samples) * labeled_ratio)\n",
    "\n",
    "# Split the files into validation, labeled, and unlabeled sets\n",
    "val_img = files[:val_samples]\n",
    "labeled_img = files[val_samples:val_samples + train_samples]\n",
    "unlabeled_img = files[val_samples + train_samples:]"
   ]
  },
  {
   "cell_type": "code",
   "execution_count": 6,
   "id": "b2227a5f",
   "metadata": {},
   "outputs": [],
   "source": [
    "import csv\n",
    "import os\n",
    "\n",
    "# Assuming the variables `labeled_img`, `val_img`, and `unlabeled_img` are already defined as lists of file paths\n",
    "\n",
    "# Create corresponding mask file paths for the labeled, validation, and unlabeled images\n",
    "labeled_mask = [os.path.join(msk_folder_path, os.path.splitext(os.path.basename(file))[0] + '.png') for file in labeled_img]\n",
    "val_mask = [os.path.join(msk_folder_path, os.path.splitext(os.path.basename(file))[0] + '.png') for file in val_img]\n",
    "unlabeled_mask = [os.path.join(msk_folder_path, os.path.splitext(os.path.basename(file))[0] + '.png') for file in unlabeled_img]\n",
    "\n",
    "labeled_mask = [remove_prefix(file_path, data_dir) for file_path in labeled_mask]\n",
    "val_mask = [remove_prefix(file_path, data_dir) for file_path in val_mask]\n",
    "unlabeled_mask = [remove_prefix(file_path, data_dir) for file_path in unlabeled_mask]\n",
    "\n",
    "# Write the labeled image and mask pairs to 'labeled.txt'\n",
    "with open(os.path.join(output_dir, \"labeled.txt\"), 'w') as file:\n",
    "    writer = csv.writer(file, delimiter=' ')\n",
    "    writer.writerows(zip(labeled_img, labeled_mask))\n",
    "\n",
    "# Write the validation image and mask pairs to 'val.txt'\n",
    "with open(os.path.join(val_output_dir, \"val.txt\"), 'w') as file:\n",
    "    writer = csv.writer(file, delimiter=' ')\n",
    "    writer.writerows(zip(val_img, val_mask))\n",
    "\n",
    "# Write the unlabeled image file paths to 'unlabeled.txt'\n",
    "with open(os.path.join(output_dir, \"unlabeled.txt\"), 'w') as file:\n",
    "    writer = csv.writer(file, delimiter=' ')\n",
    "    writer.writerows(zip(unlabeled_img, unlabeled_mask))\n",
    "\n",
    "# The comment in Chinese: # 將每個列表裡的每一個元素中，使其成為一行\n"
   ]
  },
  {
   "cell_type": "code",
   "execution_count": null,
   "id": "45b27f37",
   "metadata": {},
   "outputs": [],
   "source": []
  }
 ],
 "metadata": {
  "kernelspec": {
   "display_name": "Python 3 (ipykernel)",
   "language": "python",
   "name": "python3"
  },
  "language_info": {
   "codemirror_mode": {
    "name": "ipython",
    "version": 3
   },
   "file_extension": ".py",
   "mimetype": "text/x-python",
   "name": "python",
   "nbconvert_exporter": "python",
   "pygments_lexer": "ipython3",
   "version": "3.8.18"
  }
 },
 "nbformat": 4,
 "nbformat_minor": 5
}
