{
 "cells": [
  {
   "cell_type": "code",
   "execution_count": 1,
   "metadata": {},
   "outputs": [],
   "source": [
    "import os,glob\n",
    "import csv"
   ]
  },
  {
   "cell_type": "code",
   "execution_count": 3,
   "metadata": {},
   "outputs": [],
   "source": [
    "import os\n",
    "import random\n",
    "\n",
    "# data_dir = '/work/melody1126/0.research/kidney/0_data_dataset_voc/JPEGImages/'\n",
    "img_folder_path = '0_data_dataset_voc_950/JPEGImages/'\n",
    "msk_folder_path = '0_data_dataset_voc_950/SegmentationClassPNG/'\n",
    "output_dir = 'dataset/splits/kidney/533/'\n",
    "\n",
    "\n",
    "# 获取目录下的所有 image 路径\n",
    "files = [os.path.join(img_folder_path, file) for file in os.listdir(img_folder_path)]\n",
    "random.shuffle(files)\n",
    "\n",
    "# 数据集拆分比例\n",
    "labeled_ratio = 0.53\n",
    "val_ratio = 0.14\n",
    "\n",
    "# 拆分数据集\n",
    "total_samples = len(files)\n",
    "train_samples = int(total_samples * labeled_ratio)+1\n",
    "val_samples = int(total_samples * val_ratio)\n",
    "\n",
    "labeled_img = files[:train_samples]\n",
    "val_img = files[train_samples:train_samples + val_samples]\n",
    "unlabeled_img = files[train_samples + val_samples:]\n",
    "\n",
    "labeled_img = files[:train_samples]\n",
    "val_img = files[train_samples:train_samples + val_samples]\n",
    "unlabeled_img = files[train_samples + val_samples:]\n",
    "\n",
    "# 获取對應於 image 的 mask 路径\n",
    "# split = lambda x: x[0].split('/')[-1].replace(\".jpg\",\".png\")\n",
    "# fname = split(labeled_img)\n",
    "# mask_files = os.path.join(msk_folder_path, fname)\n",
    "#f'{msk_folder_path}' + f'{fname}'\n",
    "labeled_mask = [os.path.join(msk_folder_path, os.path.splitext(os.path.basename(file))[0] + '.png') for file in labeled_img]\n",
    "val_mask = [os.path.join(msk_folder_path, os.path.splitext(os.path.basename(file))[0] + '.png') for file in val_img]\n",
    "unlabeled_mask = [os.path.join(msk_folder_path, os.path.splitext(os.path.basename(file))[0] + '.png') for file in unlabeled_img]\n",
    "\n",
    "\n",
    "with open(os.path.join(output_dir, \"labeled.txt\"), 'w') as file:\n",
    "    writer = csv.writer(file, delimiter=' ')\n",
    "    writer.writerows(zip(labeled_img,labeled_mask))\n",
    "    \n",
    "with open(os.path.join(output_dir, \"val.txt\"), 'w') as file:\n",
    "    writer = csv.writer(file, delimiter=' ')\n",
    "    writer.writerows(zip(val_img,val_mask))\n",
    "    \n",
    "with open(os.path.join(output_dir, \"unlabeled.txt\"), 'w') as file:\n",
    "    writer = csv.writer(file, delimiter=' ')\n",
    "    writer.writerows(zip(unlabeled_img,unlabeled_mask))"
   ]
  },
  {
   "cell_type": "code",
   "execution_count": 4,
   "metadata": {},
   "outputs": [],
   "source": [
    "# import os\n",
    "\n",
    "# # 获取MASK目录下的所有文件路径\n",
    "# mask_files = [os.path.join(msk_folder_path, os.path.splitext(os.path.basename(file))[0] + '.png') for file in labeled_img]\n",
    "# mask_files"
   ]
  },
  {
   "cell_type": "markdown",
   "metadata": {},
   "source": [
    "# 調整train比例（沿用之前的val.txt）"
   ]
  },
  {
   "cell_type": "code",
   "execution_count": 25,
   "metadata": {},
   "outputs": [
    {
     "name": "stdout",
     "output_type": "stream",
     "text": [
      "1066\n"
     ]
    }
   ],
   "source": [
    "id_path = 'dataset/splits/kidney/val.txt'\n",
    "\n",
    "excluded_files = []\n",
    "\n",
    "with open(id_path, 'r') as f:\n",
    "    ids_list = f.read().splitlines()\n",
    "    ids = list(map(lambda x: x.split(' ')[0], ids_list))\n",
    "\n",
    "for file in files:\n",
    "    if file not in ids:\n",
    "        excluded_files.append(file)\n",
    "\n",
    "print(len(excluded_files))\n"
   ]
  },
  {
   "cell_type": "code",
   "execution_count": 29,
   "metadata": {},
   "outputs": [],
   "source": [
    "import os\n",
    "import random\n",
    "\n",
    "# data_dir = '/work/melody1126/0.research/kidney/0_data_dataset_voc/JPEGImages/'\n",
    "img_folder_path = '0_data_dataset_voc_950/JPEGImages/'\n",
    "msk_folder_path = '0_data_dataset_voc_950/SegmentationClassPNG/'\n",
    "output_dir = 'dataset/splits/kidney/267/'\n",
    "\n",
    "\n",
    "\n",
    "random.shuffle(excluded_files)\n",
    "\n",
    "# 数据集拆分比例\n",
    "labeled_ratio = 0.25\n",
    "# 固定 val_ratio\n",
    "\n",
    "# 拆分数据集\n",
    "total_samples = len(excluded_files)\n",
    "train_samples = int(total_samples * labeled_ratio)+1\n",
    "\n",
    "labeled_img = excluded_files[:train_samples]\n",
    "unlabeled_img = excluded_files[train_samples:]\n",
    "\n",
    "labeled_img = excluded_files[:train_samples]\n",
    "unlabeled_img = excluded_files[train_samples:]\n",
    "\n",
    "# 获取對應於 image 的 mask 路径\n",
    "labeled_mask = [os.path.join(msk_folder_path, os.path.splitext(os.path.basename(file))[0] + '.png') for file in labeled_img]\n",
    "unlabeled_mask = [os.path.join(msk_folder_path, os.path.splitext(os.path.basename(file))[0] + '.png') for file in unlabeled_img]\n",
    "\n",
    "\n",
    "with open(os.path.join(output_dir, \"labeled.txt\"), 'w') as file:\n",
    "    writer = csv.writer(file, delimiter=' ')\n",
    "    writer.writerows(zip(labeled_img,labeled_mask))\n",
    "    \n",
    "with open(os.path.join(output_dir, \"unlabeled.txt\"), 'w') as file:\n",
    "    writer = csv.writer(file, delimiter=' ')\n",
    "    writer.writerows(zip(unlabeled_img,unlabeled_mask))"
   ]
  },
  {
   "cell_type": "code",
   "execution_count": null,
   "metadata": {},
   "outputs": [],
   "source": []
  }
 ],
 "metadata": {
  "kernelspec": {
   "display_name": "Python 3 (ipykernel)",
   "language": "python",
   "name": "python3"
  },
  "language_info": {
   "codemirror_mode": {
    "name": "ipython",
    "version": 3
   },
   "file_extension": ".py",
   "mimetype": "text/x-python",
   "name": "python",
   "nbconvert_exporter": "python",
   "pygments_lexer": "ipython3",
   "version": "3.10.12"
  }
 },
 "nbformat": 4,
 "nbformat_minor": 4
}
